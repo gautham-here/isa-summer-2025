{
 "cells": [
  {
   "cell_type": "markdown",
   "metadata": {},
   "source": [
    "### Step 1: Importing Necessary Libraries\n",
    "We begin by importing Python libraries commonly used in data analysis and visualization:\n",
    "- `numpy` for numerical operations\n",
    "- `matplotlib.pyplot` for plotting graphs\n",
    "- `pandas` (commented out here) for handling CSV data, which is especially useful for tabular data such as redshift catalogs\n",
    "\n",
    "> Tip: If you haven’t used `pandas` before, it’s worth learning as it offers powerful tools to manipulate and analyze structured datasets.\n"
   ]
  },
  {
   "cell_type": "markdown",
   "metadata": {},
   "source": [
    "For reading big csv files, one can use numpy as well as something called \"pandas\". We suggest to read pandas for CSV file reading and use that"
   ]
  },
  {
   "cell_type": "code",
   "execution_count": 1,
   "metadata": {},
   "outputs": [],
   "source": [
    "import numpy as np\n",
    "import matplotlib.pyplot as plt\n",
    "import pandas as pd\n",
    "from astropy.constants import G, c\n",
    "from astropy.cosmology import Planck18 as cosmo\n",
    "import astropy.units as u"
   ]
  },
  {
   "cell_type": "markdown",
   "metadata": {},
   "source": [
    "\n",
    "Before we begin calculations, we define key physical constants used throughout:\n",
    "\n",
    "- $ H_0 $: Hubble constant, describes the expansion rate of the Universe.\n",
    "- $c$ : Speed of light.\n",
    "-  $G$: Gravitational constant.\n",
    "- $q_0$ : Deceleration parameter, used for approximate co-moving distance calculations.\n",
    "\n",
    "We will use **`astropy.constants`** to ensure unit consistency and precision."
   ]
  },
  {
   "cell_type": "code",
   "execution_count": 2,
   "metadata": {},
   "outputs": [],
   "source": [
    "# Constants:\n",
    "\n",
    "H_0 = (70 * u.km / u.s / u.Mpc).to(u.s**-1)         # Hubble constant in SI\n",
    "c = c.to(u.m / u.s).value                           # Speed of light in m/s (numerical value)\n",
    "G = G.to(u.pc**3 / (u.M_sun * u.s**2)).value        # Gravitational constant in pc^3 / (M_sun s^2)\n",
    "q0 = -0.534                                         # Deceleration parameter (assumed from Planck fit KEEP it as it is)"
   ]
  },
  {
   "cell_type": "markdown",
   "metadata": {},
   "source": [
    "Read the csv data into the python using the method below"
   ]
  },
  {
   "cell_type": "code",
   "execution_count": 6,
   "metadata": {},
   "outputs": [
    {
     "data": {
      "text/html": [
       "<div>\n",
       "<style scoped>\n",
       "    .dataframe tbody tr th:only-of-type {\n",
       "        vertical-align: middle;\n",
       "    }\n",
       "\n",
       "    .dataframe tbody tr th {\n",
       "        vertical-align: top;\n",
       "    }\n",
       "\n",
       "    .dataframe thead th {\n",
       "        text-align: right;\n",
       "    }\n",
       "</style>\n",
       "<table border=\"1\" class=\"dataframe\">\n",
       "  <thead>\n",
       "    <tr style=\"text-align: right;\">\n",
       "      <th></th>\n",
       "      <th>objid</th>\n",
       "      <th>ra</th>\n",
       "      <th>dec</th>\n",
       "      <th>photoz</th>\n",
       "      <th>photozerr</th>\n",
       "      <th>specz</th>\n",
       "      <th>speczerr</th>\n",
       "      <th>proj_sep</th>\n",
       "      <th>umag</th>\n",
       "      <th>umagerr</th>\n",
       "      <th>gmag</th>\n",
       "      <th>gmagerr</th>\n",
       "      <th>rmag</th>\n",
       "      <th>rmagerr</th>\n",
       "      <th>obj_type</th>\n",
       "    </tr>\n",
       "  </thead>\n",
       "  <tbody>\n",
       "    <tr>\n",
       "      <th>0</th>\n",
       "      <td>1237671768542478711</td>\n",
       "      <td>257.82458</td>\n",
       "      <td>64.133257</td>\n",
       "      <td>0.079193</td>\n",
       "      <td>0.022867</td>\n",
       "      <td>0.082447</td>\n",
       "      <td>0.000017</td>\n",
       "      <td>8.347733</td>\n",
       "      <td>18.96488</td>\n",
       "      <td>0.043377</td>\n",
       "      <td>17.49815</td>\n",
       "      <td>0.005672</td>\n",
       "      <td>16.75003</td>\n",
       "      <td>0.004708</td>\n",
       "      <td>3</td>\n",
       "    </tr>\n",
       "    <tr>\n",
       "      <th>1</th>\n",
       "      <td>1237671768542478711</td>\n",
       "      <td>257.82458</td>\n",
       "      <td>64.133257</td>\n",
       "      <td>0.079193</td>\n",
       "      <td>0.022867</td>\n",
       "      <td>0.082466</td>\n",
       "      <td>0.000014</td>\n",
       "      <td>8.347733</td>\n",
       "      <td>18.96488</td>\n",
       "      <td>0.043377</td>\n",
       "      <td>17.49815</td>\n",
       "      <td>0.005672</td>\n",
       "      <td>16.75003</td>\n",
       "      <td>0.004708</td>\n",
       "      <td>3</td>\n",
       "    </tr>\n",
       "    <tr>\n",
       "      <th>2</th>\n",
       "      <td>1237671768542478713</td>\n",
       "      <td>257.83332</td>\n",
       "      <td>64.126043</td>\n",
       "      <td>0.091507</td>\n",
       "      <td>0.014511</td>\n",
       "      <td>0.081218</td>\n",
       "      <td>0.000021</td>\n",
       "      <td>8.011259</td>\n",
       "      <td>20.22848</td>\n",
       "      <td>0.072019</td>\n",
       "      <td>18.38334</td>\n",
       "      <td>0.007763</td>\n",
       "      <td>17.46793</td>\n",
       "      <td>0.005828</td>\n",
       "      <td>3</td>\n",
       "    </tr>\n",
       "    <tr>\n",
       "      <th>3</th>\n",
       "      <td>1237671768542544090</td>\n",
       "      <td>257.85137</td>\n",
       "      <td>64.173247</td>\n",
       "      <td>0.081102</td>\n",
       "      <td>0.009898</td>\n",
       "      <td>0.079561</td>\n",
       "      <td>0.000022</td>\n",
       "      <td>8.739276</td>\n",
       "      <td>19.21829</td>\n",
       "      <td>0.050135</td>\n",
       "      <td>17.18970</td>\n",
       "      <td>0.004936</td>\n",
       "      <td>16.22043</td>\n",
       "      <td>0.003769</td>\n",
       "      <td>3</td>\n",
       "    </tr>\n",
       "    <tr>\n",
       "      <th>4</th>\n",
       "      <td>1237671768542544090</td>\n",
       "      <td>257.85137</td>\n",
       "      <td>64.173247</td>\n",
       "      <td>0.081102</td>\n",
       "      <td>0.009898</td>\n",
       "      <td>0.079568</td>\n",
       "      <td>0.000019</td>\n",
       "      <td>8.739276</td>\n",
       "      <td>19.21829</td>\n",
       "      <td>0.050135</td>\n",
       "      <td>17.18970</td>\n",
       "      <td>0.004936</td>\n",
       "      <td>16.22043</td>\n",
       "      <td>0.003769</td>\n",
       "      <td>3</td>\n",
       "    </tr>\n",
       "  </tbody>\n",
       "</table>\n",
       "</div>"
      ],
      "text/plain": [
       "                 objid         ra        dec    photoz  photozerr     specz  \\\n",
       "0  1237671768542478711  257.82458  64.133257  0.079193   0.022867  0.082447   \n",
       "1  1237671768542478711  257.82458  64.133257  0.079193   0.022867  0.082466   \n",
       "2  1237671768542478713  257.83332  64.126043  0.091507   0.014511  0.081218   \n",
       "3  1237671768542544090  257.85137  64.173247  0.081102   0.009898  0.079561   \n",
       "4  1237671768542544090  257.85137  64.173247  0.081102   0.009898  0.079568   \n",
       "\n",
       "   speczerr  proj_sep      umag   umagerr      gmag   gmagerr      rmag  \\\n",
       "0  0.000017  8.347733  18.96488  0.043377  17.49815  0.005672  16.75003   \n",
       "1  0.000014  8.347733  18.96488  0.043377  17.49815  0.005672  16.75003   \n",
       "2  0.000021  8.011259  20.22848  0.072019  18.38334  0.007763  17.46793   \n",
       "3  0.000022  8.739276  19.21829  0.050135  17.18970  0.004936  16.22043   \n",
       "4  0.000019  8.739276  19.21829  0.050135  17.18970  0.004936  16.22043   \n",
       "\n",
       "    rmagerr  obj_type  \n",
       "0  0.004708         3  \n",
       "1  0.004708         3  \n",
       "2  0.005828         3  \n",
       "3  0.003769         3  \n",
       "4  0.003769         3  "
      ]
     },
     "execution_count": 6,
     "metadata": {},
     "output_type": "execute_result"
    }
   ],
   "source": [
    "df = pd.read_csv(\"data1.csv\", comment=\"#\") # Download the data as instructed in the pdf\n",
    "df.head()"
   ]
  },
  {
   "cell_type": "code",
   "execution_count": 7,
   "metadata": {},
   "outputs": [
    {
     "name": "stdout",
     "output_type": "stream",
     "text": [
      "['objid', 'ra', 'dec', 'photoz', 'photozerr', 'specz', 'speczerr', 'proj_sep', 'umag', 'umagerr', 'gmag', 'gmagerr', 'rmag', 'rmagerr', 'obj_type']\n"
     ]
    }
   ],
   "source": [
    "print(df.columns.tolist())"
   ]
  },
  {
   "cell_type": "markdown",
   "metadata": {},
   "source": [
    "### 📊 Calculating the Average Spectroscopic Redshift (`specz`) for Each Object\n",
    "\n",
    "When working with astronomical catalogs, an object (identified by a unique `objid`) might have multiple entries — for example, due to repeated observations. To reduce this to a single row per object, we aggregate the data using the following strategy:\n",
    "\n",
    "```python\n",
    "averaged_df = df.groupby('objid').agg({\n",
    "    'specz': 'mean',        # Take the mean of all spec-z values for that object\n",
    "    'ra': 'first',          # Use the first RA value (assumed constant for the object)\n",
    "    'dec': 'first',         # Use the first Dec value (same reason as above)\n",
    "    'proj_sep': 'first'     # Use the first projected separation value\n",
    "}).reset_index()\n"
   ]
  },
  {
   "cell_type": "code",
   "execution_count": 9,
   "metadata": {},
   "outputs": [],
   "source": [
    "# Calculating the average specz for each id:\n",
    "averaged_df = df.groupby('objid').agg({'specz': 'mean','ra': 'first','dec': 'first','proj_sep': 'first',}).reset_index()"
   ]
  },
  {
   "cell_type": "markdown",
   "metadata": {},
   "source": [
    "To create a cut in the redshift so that a cluster can be identified. We must use some logic. Most astronomers prefer anything beyond 3*sigma away from the mean to be not part of the same group. \n",
    "\n",
    "Find the mean, standard deviation and limits of the redshift from the data"
   ]
  },
  {
   "cell_type": "code",
   "execution_count": 10,
   "metadata": {},
   "outputs": [
    {
     "data": {
      "text/plain": [
       "count    92.000000\n",
       "mean      0.080838\n",
       "std       0.008578\n",
       "min       0.069976\n",
       "25%       0.077224\n",
       "50%       0.080961\n",
       "75%       0.082797\n",
       "max       0.150886\n",
       "Name: specz, dtype: float64"
      ]
     },
     "execution_count": 10,
     "metadata": {},
     "output_type": "execute_result"
    }
   ],
   "source": [
    "averaged_df.describe()['specz']"
   ]
  },
  {
   "cell_type": "markdown",
   "metadata": {},
   "source": [
    "You can also use boxplot to visualize the overall values of redshift "
   ]
  },
  {
   "cell_type": "code",
   "execution_count": 11,
   "metadata": {},
   "outputs": [
    {
     "data": {
      "image/png": "[encoded data removed]",
      "text/plain": [
       "<Figure size 600x200 with 1 Axes>"
      ]
     },
     "metadata": {},
     "output_type": "display_data"
    }
   ],
   "source": [
    "plt.figure(figsize=(6, 2))\n",
    "plt.boxplot(averaged_df['specz'], vert=False)\n",
    "plt.title(\"Boxplot of Redshifts\")\n",
    "plt.xlabel(\"Spectroscopic Redshift\")\n",
    "plt.grid(True)\n",
    "plt.show()"
   ]
  },
  {
   "cell_type": "markdown",
   "metadata": {},
   "source": [
    "But the best plot would be a histogram to see where most of the objects downloaded lie in terms of redshift value"
   ]
  },
  {
   "cell_type": "code",
   "execution_count": 12,
   "metadata": {},
   "outputs": [
    {
     "data": {
      "image/png": "[encoded data removed]",
      "text/plain": [
       "<Figure size 800x400 with 1 Axes>"
      ]
     },
     "metadata": {},
     "output_type": "display_data"
    }
   ],
   "source": [
    "# Histogram of redshifts\n",
    "plt.figure(figsize=(8, 4))\n",
    "plt.hist(averaged_df['specz'], bins=90, color='skyblue', edgecolor='black')\n",
    "plt.title(\"Distribution of Redshift for This Field\")\n",
    "plt.xlabel(\"Spectroscopic Redshift (specz)\")\n",
    "plt.ylabel(\"Number of Galaxies\")\n",
    "plt.grid(True)\n",
    "plt.show()"
   ]
  },
  {
   "cell_type": "code",
   "execution_count": 14,
   "metadata": {},
   "outputs": [
    {
     "name": "stdout",
     "output_type": "stream",
     "text": [
      "Mean redshift = 0.0808\n",
      "Redshift standard deviation = 0.0086\n"
     ]
    }
   ],
   "source": [
    "# Mean and standard deviation of redshift\n",
    "z_mean = averaged_df['specz'].mean()\n",
    "z_std = averaged_df['specz'].std()\n",
    "\n",
    "print(f\"Mean redshift = {z_mean:.4f}\")\n",
    "print(f\"Redshift standard deviation = {z_std:.4f}\")\n"
   ]
  },
  {
   "cell_type": "markdown",
   "metadata": {},
   "source": [
    "Filter your data based on the 3-sigma limit of redshift. You should remove all data points which are 3-sigma away from mean of redshift"
   ]
  },
  {
   "cell_type": "code",
   "execution_count": 15,
   "metadata": {},
   "outputs": [
    {
     "name": "stdout",
     "output_type": "stream",
     "text": [
      "Redshift limits = [0.0551, 0.1066]\n"
     ]
    }
   ],
   "source": [
    "# 3-sigma bounds\n",
    "z_lower = z_mean - 3 * z_std\n",
    "z_upper = z_mean + 3 * z_std\n",
    "\n",
    "print(f\"Redshift limits = [{z_lower:.4f}, {z_upper:.4f}]\")"
   ]
  },
  {
   "cell_type": "code",
   "execution_count": 23,
   "metadata": {},
   "outputs": [],
   "source": [
    "# Filtering the data based on specz values, used 3 sigma deviation from mean as upper limit.\n",
    "cluster_df = averaged_df[(averaged_df['specz'] >= z_lower) & (averaged_df['specz'] <= z_upper)].copy()"
   ]
  },
  {
   "cell_type": "markdown",
   "metadata": {},
   "source": [
    "Use the relation between redshift and velocity to add a column named velocity in the data. This would tell the expansion velocity at that redshift "
   ]
  },
  {
   "cell_type": "code",
   "execution_count": 24,
   "metadata": {},
   "outputs": [],
   "source": [
    "# Add velocity column: v ≈ cz for low redshift\n",
    "cluster_df.loc[:, 'velocity'] = cluster_df['specz'] * c / 1000 "
   ]
  },
  {
   "cell_type": "code",
   "execution_count": 25,
   "metadata": {},
   "outputs": [
    {
     "data": {
      "image/png": "[encoded data removed]",
      "text/plain": [
       "<Figure size 800x400 with 1 Axes>"
      ]
     },
     "metadata": {},
     "output_type": "display_data"
    }
   ],
   "source": [
    "#plot the velocity column created as hist\n",
    "plt.figure(figsize=(8, 4))\n",
    "plt.hist(cluster_df['velocity'], bins=40, color='salmon', edgecolor='black')\n",
    "plt.title(\"Histogram of Galaxy Velocities in Cluster\")\n",
    "plt.xlabel(\"Velocity (km/s)\")\n",
    "plt.ylabel(\"Number of Galaxies\")\n",
    "plt.grid(True)\n",
    "plt.show()"
   ]
  },
  {
   "cell_type": "markdown",
   "metadata": {},
   "source": [
    "use the dispersion equation to find something called velocity dispersion. You can even refer to wikipedia to know about the term [wiki link here](https://en.wikipedia.org/wiki/Velocity_dispersion#:~:text=In%20astronomy%2C%20the%20velocity%20dispersion,%2C%20galaxy%20cluster%2C%20or%20supercluster.)\n",
    "\n",
    "It is the velocity dispersion value which tells us, some galaxies might be part of even larger groups!!"
   ]
  },
  {
   "cell_type": "code",
   "execution_count": 26,
   "metadata": {},
   "outputs": [
    {
     "name": "stdout",
     "output_type": "stream",
     "text": [
      "Velocity dispersion = 1316.15 km/s\n"
     ]
    }
   ],
   "source": [
    "# Compute velocity dispersion (standard deviation of velocity)\n",
    "velocity_dispersion = cluster_df['velocity'].std()\n",
    "\n",
    "print(f\"Velocity dispersion = {velocity_dispersion:.2f} km/s\")"
   ]
  },
  {
   "cell_type": "markdown",
   "metadata": {},
   "source": [
    "### Step 2: Calculate Mean Redshift of the Cluster\n",
    "We calculate the average redshift (`specz`) of galaxies that belong to a cluster. This gives us an estimate of the cluster's systemic redshift.\n",
    "\n",
    "`cluster_redshift = filtered_df['specz'].mean()`\n"
   ]
  },
  {
   "cell_type": "markdown",
   "metadata": {},
   "source": [
    "The velocity dispersion \\( v \\) of galaxies relative to the cluster mean redshift is computed using the relativistic Doppler formula:\n",
    "\n",
    "$$\n",
    "v = c \\cdot \\frac{(1 + z)^2 - (1 + z_{\\text{cluster}})^2}{(1 + z)^2 + (1 + z_{\\text{cluster}})^2}\n",
    "$$\n",
    "where:\n",
    "- \\( v \\) is the relative velocity (dispersion),\n",
    "- \\( z \\) is the redshift of the individual galaxy,\n",
    "- \\( $z_{\\text{cluster}}$ \\) is the mean cluster redshift,\n",
    "- \\( c \\) is the speed of light.\n"
   ]
  },
  {
   "cell_type": "code",
   "execution_count": 27,
   "metadata": {},
   "outputs": [],
   "source": [
    "cluster_redshift = cluster_df['specz'].mean()"
   ]
  },
  {
   "cell_type": "markdown",
   "metadata": {},
   "source": [
    "Pro tip: Check what the describe function of pandas does. Does it help to get quick look stats for your column of dispersion??"
   ]
  },
  {
   "cell_type": "code",
   "execution_count": 28,
   "metadata": {},
   "outputs": [],
   "source": [
    "z = cluster_df['specz']\n",
    "zc = cluster_redshift\n",
    "\n",
    "# Compute relativistic velocity (in km/s)\n",
    "v_rel = c * ((1 + z)**2 - (1 + zc)**2) / ((1 + z)**2 + (1 + zc)**2)\n",
    "\n",
    "# Add to DataFrame\n",
    "cluster_df.loc[:, 'v_rel'] = v_rel\n",
    "\n",
    "# Compute velocity dispersion\n",
    "disp = cluster_df['v_rel'].std()"
   ]
  },
  {
   "cell_type": "code",
   "execution_count": 29,
   "metadata": {},
   "outputs": [
    {
     "name": "stdout",
     "output_type": "stream",
     "text": [
      "The value of the cluster redshift = 0.08007\n",
      "The characteristic value of velocity dispersion of the cluster along the line of sight = 1.218e+06 km/s.\n"
     ]
    }
   ],
   "source": [
    "\n",
    "print(f\"The value of the cluster redshift = {cluster_redshift:.4}\")\n",
    "print(f\"The characteristic value of velocity dispersion of the cluster along the line of sight = {disp:.4} km/s.\")"
   ]
  },
  {
   "cell_type": "markdown",
   "metadata": {},
   "source": [
    "### Step 4: Visualizing Angular Separation of Galaxies\n",
    "We plot a histogram of the projected (angular) separation of galaxies from the cluster center. This helps us understand the spatial distribution of galaxies within the cluster field.\n",
    "\n",
    "- The x-axis represents the angular separation (in arcminutes or degrees, depending on units).\n",
    "- The y-axis shows the number of galaxies at each separation bin.\n",
    "\n"
   ]
  },
  {
   "cell_type": "code",
   "execution_count": 30,
   "metadata": {},
   "outputs": [
    {
     "data": {
      "image/png": "[encoded data removed]",
      "text/plain": [
       "<Figure size 800x400 with 1 Axes>"
      ]
     },
     "metadata": {},
     "output_type": "display_data"
    }
   ],
   "source": [
    "#Plot histogram for proj sep column\n",
    "# Histogram of projected separation\n",
    "plt.figure(figsize=(8, 4))\n",
    "plt.hist(cluster_df['proj_sep'], bins=30, color='mediumseagreen', edgecolor='black')\n",
    "plt.xlabel(\"Projected Separation (arcmin)\")\n",
    "plt.ylabel(\"Number of Galaxies\")\n",
    "plt.title(\"Angular Separation of Galaxies from Cluster Center\")\n",
    "plt.grid(True)\n",
    "plt.show()"
   ]
  },
  {
   "cell_type": "markdown",
   "metadata": {},
   "source": [
    "### Determining size and mass of the cluster:"
   ]
  },
  {
   "cell_type": "markdown",
   "metadata": {},
   "source": [
    "### Step 5: Estimating Physical Diameter of the Cluster\n",
    "We now estimate the **physical diameter** of the galaxy cluster using cosmological parameters.\n",
    "\n",
    "- `r` is the **co-moving distance**, approximated using a Taylor expansion for low redshift:\n",
    "  $$\n",
    "  r = \\frac{cz}{H_0} \\left(1 - \\frac{z}{2}(1 + q_0)\\right)\n",
    "  $$\n",
    "  where $q_0$ is the deceleration parameter\n",
    "- `ra` is the **angular diameter distance**, given by:\n",
    "  $$\n",
    "  D_A = \\frac{r}{1 + z}\n",
    "  $$\n",
    "- Finally, we convert the observed angular diameter (in arcminutes) into physical size using:\n",
    "  $$\n",
    "  \\text{diameter (in Mpc)} = D_A \\cdot \\theta\n",
    "  $$\n",
    "  where $ \\theta $ is the angular size in radians, converted from arcminutes.\n",
    "\n",
    "> This gives us a rough estimate of the cluster's size in megaparsecs (Mpc), assuming a flat ΛCDM cosmology.\n"
   ]
  },
  {
   "cell_type": "code",
   "execution_count": 31,
   "metadata": {},
   "outputs": [
    {
     "name": "stdout",
     "output_type": "stream",
     "text": [
      "Estimated physical diameter of the cluster ≈ 0.89 Mpc\n"
     ]
    }
   ],
   "source": [
    "# Step 5: Estimate the physical diameter using low-z approximation\n",
    "\n",
    "# Use cluster redshift\n",
    "z = cluster_redshift\n",
    "\n",
    "# Speed of light already defined as `c` (in m/s)\n",
    "# H_0 in SI units (1/s)\n",
    "# q0 = -0.534\n",
    "\n",
    "# Co-moving radial distance in meters\n",
    "r = (c * z / H_0.value) * (1 - (z / 2) * (1 + q0))  # meters\n",
    "\n",
    "# Angular diameter distance in meters\n",
    "D_A = r / (1 + z)  # meters\n",
    "\n",
    "# Maximum projected angular separation in arcminutes -> radians\n",
    "theta_rad = np.radians(cluster_df['proj_sep'].max() / 60)\n",
    "\n",
    "# Diameter in meters, then convert to Mpc\n",
    "diameter = (D_A * theta_rad) / (3.086e22)  # meters to Mpc\n",
    "\n",
    "print(f\"Estimated physical diameter of the cluster ≈ {diameter:.2f} Mpc\")"
   ]
  },
  {
   "cell_type": "markdown",
   "metadata": {},
   "source": [
    "### Step 6: Calculating the Dynamical Mass of the Cluster\n",
    "We now estimate the **dynamical mass** of the galaxy cluster using the virial theorem:\n",
    "\n",
    "$$\n",
    "M_{\\text{dyn}} = \\frac{3 \\sigma^2 R}{G}\n",
    "$$\n",
    "\n",
    "Where:\n",
    "- $ \\sigma $ is the **velocity dispersion** in m/s (`disp * 1000`),\n",
    "- $ R $ is the **cluster radius** in meters (half the physical diameter converted to meters),\n",
    "- $ G $ is the **gravitational constant** in SI units,\n",
    "- The factor of 3 assumes an isotropic velocity distribution (common in virial estimates).\n",
    "\n",
    "We convert the final result into **solar masses** by dividing by $ 2 \\times 10^{30} \\, \\text{kg} $.\n",
    "\n",
    "> This mass estimate assumes the cluster is in dynamical equilibrium and bound by gravity.\n"
   ]
  },
  {
   "cell_type": "code",
   "execution_count": 32,
   "metadata": {},
   "outputs": [
    {
     "name": "stdout",
     "output_type": "stream",
     "text": [
      "Dynamical Mass of the cluster is 6.79e+39 solar mass\n"
     ]
    }
   ],
   "source": [
    "### Calculating the dynamical mass in solar masses:\n",
    "# Step 6: Calculate dynamical mass using virial theorem\n",
    "\n",
    "# Convert velocity dispersion to m/s\n",
    "sigma = disp * 1000  # km/s → m/s\n",
    "\n",
    "# Convert cluster radius (half diameter) from Mpc to meters\n",
    "R = 0.5 * diameter * 3.086e22  # Mpc → meters\n",
    "\n",
    "# Dynamical mass in kg, then convert to solar masses\n",
    "M_dyn = (3 * sigma**2 * R) / (G * 2e30)  # Divide by 2e30 kg to get M_sun\n",
    "\n",
    "print(f\"Dynamical Mass of the cluster is {M_dyn:.2e} solar mass\")"
   ]
  },
  {
   "cell_type": "markdown",
   "metadata": {},
   "source": [
    "## Project 1: Estimating the Dynamical Mass of a Galaxy Cluster"
   ]
  },
  {
   "cell_type": "markdown",
   "metadata": {},
   "source": [
    "In this short project, you will use the steps discussed in class to estimate the dynamical mass of a galaxy cluster, which is the total mass of the cluster independent of light. For this, first, you must get information on a field with many galaxies, several of which are potential members of a cluster. We will make use of the SDSS spectroscopic data archive for this. In the interest of saving time, we will use the redshift determined by the SDSS itself for the galaxies in the field. The alternative is to download the spectrum of each galaxy, use the spectral features to determine the redshift.   "
   ]
  },
  {
   "cell_type": "markdown",
   "metadata": {},
   "source": [
    "### Questions & Answers"
   ]
  },
  {
   "cell_type": "markdown",
   "metadata": {},
   "source": [
    "**1. Identify galaxies that you think are members of a cluster.** \n",
    "\n",
    "For this, use of knowledge of velocity dispersions (redshift dispersions) within a cluster due to peculiar motion. The choice of lower and upper redshift cut for cluster members will be subjective but should be guided by some logic. "
   ]
  },
  {
   "cell_type": "markdown",
   "metadata": {},
   "source": [
    "Already created cluster_df identifies the members of the cluster\n"
   ]
  },
  {
   "cell_type": "code",
   "execution_count": 33,
   "metadata": {},
   "outputs": [
    {
     "data": {
      "text/html": [
       "<div>\n",
       "<style scoped>\n",
       "    .dataframe tbody tr th:only-of-type {\n",
       "        vertical-align: middle;\n",
       "    }\n",
       "\n",
       "    .dataframe tbody tr th {\n",
       "        vertical-align: top;\n",
       "    }\n",
       "\n",
       "    .dataframe thead th {\n",
       "        text-align: right;\n",
       "    }\n",
       "</style>\n",
       "<table border=\"1\" class=\"dataframe\">\n",
       "  <thead>\n",
       "    <tr style=\"text-align: right;\">\n",
       "      <th></th>\n",
       "      <th>objid</th>\n",
       "      <th>specz</th>\n",
       "      <th>ra</th>\n",
       "      <th>dec</th>\n",
       "      <th>proj_sep</th>\n",
       "      <th>velocity</th>\n",
       "      <th>v_rel</th>\n",
       "    </tr>\n",
       "  </thead>\n",
       "  <tbody>\n",
       "    <tr>\n",
       "      <th>0</th>\n",
       "      <td>1237671768542478711</td>\n",
       "      <td>0.082457</td>\n",
       "      <td>257.82458</td>\n",
       "      <td>64.133257</td>\n",
       "      <td>8.347733</td>\n",
       "      <td>24719.932747</td>\n",
       "      <td>6.623653e+05</td>\n",
       "    </tr>\n",
       "    <tr>\n",
       "      <th>1</th>\n",
       "      <td>1237671768542478713</td>\n",
       "      <td>0.081218</td>\n",
       "      <td>257.83332</td>\n",
       "      <td>64.126043</td>\n",
       "      <td>8.011259</td>\n",
       "      <td>24348.666769</td>\n",
       "      <td>3.191853e+05</td>\n",
       "    </tr>\n",
       "    <tr>\n",
       "      <th>2</th>\n",
       "      <td>1237671768542544090</td>\n",
       "      <td>0.079564</td>\n",
       "      <td>257.85137</td>\n",
       "      <td>64.173247</td>\n",
       "      <td>8.739276</td>\n",
       "      <td>23852.805546</td>\n",
       "      <td>-1.397790e+05</td>\n",
       "    </tr>\n",
       "    <tr>\n",
       "      <th>3</th>\n",
       "      <td>1237671768542544107</td>\n",
       "      <td>0.080842</td>\n",
       "      <td>257.89303</td>\n",
       "      <td>64.141138</td>\n",
       "      <td>6.839642</td>\n",
       "      <td>24235.764929</td>\n",
       "      <td>2.147463e+05</td>\n",
       "    </tr>\n",
       "    <tr>\n",
       "      <th>4</th>\n",
       "      <td>1237671768542544127</td>\n",
       "      <td>0.084575</td>\n",
       "      <td>257.91585</td>\n",
       "      <td>64.107290</td>\n",
       "      <td>5.666108</td>\n",
       "      <td>25355.070050</td>\n",
       "      <td>1.248541e+06</td>\n",
       "    </tr>\n",
       "  </tbody>\n",
       "</table>\n",
       "</div>"
      ],
      "text/plain": [
       "                 objid     specz         ra        dec  proj_sep  \\\n",
       "0  1237671768542478711  0.082457  257.82458  64.133257  8.347733   \n",
       "1  1237671768542478713  0.081218  257.83332  64.126043  8.011259   \n",
       "2  1237671768542544090  0.079564  257.85137  64.173247  8.739276   \n",
       "3  1237671768542544107  0.080842  257.89303  64.141138  6.839642   \n",
       "4  1237671768542544127  0.084575  257.91585  64.107290  5.666108   \n",
       "\n",
       "       velocity         v_rel  \n",
       "0  24719.932747  6.623653e+05  \n",
       "1  24348.666769  3.191853e+05  \n",
       "2  23852.805546 -1.397790e+05  \n",
       "3  24235.764929  2.147463e+05  \n",
       "4  25355.070050  1.248541e+06  "
      ]
     },
     "execution_count": 33,
     "metadata": {},
     "output_type": "execute_result"
    }
   ],
   "source": [
    "cluster_df.head()"
   ]
  },
  {
   "cell_type": "markdown",
   "metadata": {},
   "source": [
    "This can further be saved as a separate csv file."
   ]
  },
  {
   "cell_type": "code",
   "execution_count": 35,
   "metadata": {},
   "outputs": [],
   "source": [
    "cluster_df.to_csv(\"identified_cluster_members.csv\", index=False)"
   ]
  },
  {
   "cell_type": "markdown",
   "metadata": {},
   "source": [
    "**2.** After the required analysis of the table of data, **determine the cluster redshift, and obtain an estimate for the characteristic velocity dispersion of galaxies** that belong to the cluster in units of km/s"
   ]
  },
  {
   "cell_type": "markdown",
   "metadata": {},
   "source": [
    "After applying a 3σ redshift cut to the SDSS spectroscopic catalog, galaxies that are statistically consistent with being part of a gravitationally bound cluster have been identified."
   ]
  },
  {
   "cell_type": "code",
   "execution_count": 37,
   "metadata": {},
   "outputs": [
    {
     "name": "stdout",
     "output_type": "stream",
     "text": [
      "The value of the cluster redshift = 0.08007\n",
      "The characteristic value of velocity dispersion of the cluster along the line of sight = 1.218e+06 km/s.\n"
     ]
    }
   ],
   "source": [
    "print(f\"The value of the cluster redshift = {cluster_redshift:.4}\")\n",
    "print(f\"The characteristic value of velocity dispersion of the cluster along the line of sight = {disp:.4} km/s.\")"
   ]
  },
  {
   "cell_type": "markdown",
   "metadata": {},
   "source": [
    "\n",
    "- **Mean cluster redshift**: `z = 0.08007`\n",
    "- **Velocity dispersion** (computed using the relativistic velocity formula):\n",
    "\n",
    "$$\n",
    "v = c \\cdot \\frac{(1 + z)^2 - (1 + z_{\\text{cluster}})^2}{(1 + z)^2 + (1 + z_{\\text{cluster}})^2}\n",
    "$$\n",
    "\n",
    "- **Result**:  \n",
    "  $$\n",
    "  \\sigma_v = 1.218 \\times 10^6 \\ \\text{km/s}\n",
    "  $$\n",
    "\n",
    "This velocity dispersion is consistent with a **massive galaxy cluster**, indicating strong gravitational binding and significant internal motion of member galaxies.\n",
    "<br>"
   ]
  },
  {
   "cell_type": "markdown",
   "metadata": {},
   "source": [
    "**3. Estimate the characteristic size of the cluster in Mpc** "
   ]
  },
  {
   "cell_type": "code",
   "execution_count": 38,
   "metadata": {},
   "outputs": [
    {
     "name": "stdout",
     "output_type": "stream",
     "text": [
      "Estimated physical diameter of the cluster ≈ 0.89 Mpc\n"
     ]
    }
   ],
   "source": [
    "print(f\"Estimated physical diameter of the cluster ≈ {diameter:.2f} Mpc\")"
   ]
  },
  {
   "cell_type": "markdown",
   "metadata": {},
   "source": [
    "Using the angular diameter distance formula, Estimated cluster diameter = 0.89 Mpc\n",
    "<br>"
   ]
  },
  {
   "cell_type": "markdown",
   "metadata": {},
   "source": [
    "**4. Estimate the dynamical mass of the cluster and quote the value in units of solar mass** "
   ]
  },
  {
   "cell_type": "markdown",
   "metadata": {},
   "source": [
    "Using the virial theorem with:\n",
    "- Velocity dispersion: 1.218 × 10^6 km/s\n",
    "- Radius: 0.445 Mpc"
   ]
  },
  {
   "cell_type": "code",
   "execution_count": 41,
   "metadata": {},
   "outputs": [
    {
     "name": "stdout",
     "output_type": "stream",
     "text": [
      "Dynamical Mass of the cluster is 6.79e+39 solar mass\n"
     ]
    }
   ],
   "source": [
    "print(f\"Dynamical Mass of the cluster is {M_dyn:.2e} solar mass\")"
   ]
  },
  {
   "cell_type": "markdown",
   "metadata": {},
   "source": [
    "Estimated dynamical mass = 6.79 × 10^39 solar masses\n",
    "\n",
    "This is typical for massive galaxy clusters."
   ]
  },
  {
   "cell_type": "markdown",
   "metadata": {},
   "source": [
    "**5. Is the estimate of dynamical mass consistent with what is expected from the luminous mass? If not, explain with the support of numbers the inconsistency.** "
   ]
  },
  {
   "cell_type": "markdown",
   "metadata": {},
   "source": [
    "No — the dynamical mass estimate is **not consistent** with the expected luminous mass.\n",
    "\n",
    "- **Dynamical mass (from velocity dispersion)**:  $$ M_{\\text{dyn}} = 6.79 \\times 10^{39} \\ M_{\\odot} $$\n",
    "\n",
    "- **Typical luminous mass** (from starlight in massive clusters): $$  M_{\\text{lum}} \\sim 10^{14} \\ M_{\\odot} $$\n",
    "\n",
    "This shows a discrepancy of **5–6 orders of magnitude** between the dynamical and luminous mass. This is expected — most of a cluster’s mass is not visible** in light. This large difference supports the existence of **dark matter**, which contributes to the gravitational potential but emits no light."
   ]
  },
  {
   "cell_type": "markdown",
   "metadata": {},
   "source": [
    "### 📊 Plots Included:\n",
    "- Plot 1: Boxplot of Redshifts\n",
    "- Plot 2: Distribution of Redshift for This Field \n",
    "- Plot 3: Histogram of Galaxy Velocities in Cluster\n",
    "- Plot 4: Angular Separation of Galaxies from Cluster Center\n",
    "\n",
    "---"
   ]
  },
  {
   "cell_type": "markdown",
   "metadata": {},
   "source": [
    "Done by: **Gautham R**  \n",
    "Application Number: **561440**"
   ]
  }
 ],
 "metadata": {
  "kernelspec": {
   "display_name": "Python 3 (ipykernel)",
   "language": "python",
   "name": "python3"
  },
  "language_info": {
   "codemirror_mode": {
    "name": "ipython",
    "version": 3
   },
   "file_extension": ".py",
   "mimetype": "text/x-python",
   "name": "python",
   "nbconvert_exporter": "python",
   "pygments_lexer": "ipython3",
   "version": "3.13.3"
  }
 },
 "nbformat": 4,
 "nbformat_minor": 4
}
